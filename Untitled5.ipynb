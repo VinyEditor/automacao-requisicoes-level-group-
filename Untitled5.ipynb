{
  "nbformat": 4,
  "nbformat_minor": 0,
  "metadata": {
    "colab": {
      "provenance": [],
      "authorship_tag": "ABX9TyMQdXiOkR9vt8vGyTVbX30v",
      "include_colab_link": true
    },
    "kernelspec": {
      "name": "python3",
      "display_name": "Python 3"
    },
    "language_info": {
      "name": "python"
    }
  },
  "cells": [
    {
      "cell_type": "markdown",
      "metadata": {
        "id": "view-in-github",
        "colab_type": "text"
      },
      "source": [
        "<a href=\"https://colab.research.google.com/github/VinyEditor/automacao-requisicoes-level-group-/blob/main/Untitled5.ipynb\" target=\"_parent\"><img src=\"https://colab.research.google.com/assets/colab-badge.svg\" alt=\"Open In Colab\"/></a>"
      ]
    },
    {
      "cell_type": "code",
      "execution_count": null,
      "metadata": {
        "id": "qYS33D6YnCBQ"
      },
      "outputs": [],
      "source": [
        "# Importando bibliotecas necessárias\n",
        "import pandas as pd\n",
        "from sklearn.model_selection import train_test_split\n",
        "from sklearn.feature_extraction.text import TfidfVectorizer\n",
        "from sklearn.svm import SVC\n",
        "from sklearn.metrics import classification_report, accuracy_score\n",
        "import joblib"
      ]
    },
    {
      "cell_type": "code",
      "source": [
        "# Carregando os dados\n",
        "historico_compras = pd.read_csv(\"caminho_para_arquivo/historico_compras.csv\")\n",
        "dados_comportamentais = pd.read_csv(\"caminho_para_arquivo/dados_comportamentais.csv\")"
      ],
      "metadata": {
        "id": "z3ZOrs_bnwUo"
      },
      "execution_count": null,
      "outputs": []
    },
    {
      "cell_type": "code",
      "source": [
        "# Fundindo os dados\n",
        "dados = pd.merge(historico_compras, dados_comportamentais, on='id_usuario')"
      ],
      "metadata": {
        "id": "l4RWOrZznzdB"
      },
      "execution_count": null,
      "outputs": []
    },
    {
      "cell_type": "code",
      "source": [
        "# Dividindo os dados em conjunto de treinamento e teste\n",
        "X_train, X_test, y_train, y_test = train_test_split(dados['requisicao_compra'], dados['categoria_produto'], test_size=0.2, random_state=42)"
      ],
      "metadata": {
        "id": "TyqMHwJXn18g"
      },
      "execution_count": null,
      "outputs": []
    },
    {
      "cell_type": "code",
      "source": [
        "# Vetorizando as requisições de compra usando TF-IDF\n",
        "vectorizer = TfidfVectorizer()\n",
        "X_train_vec = vectorizer.fit_transform(X_train)\n",
        "X_test_vec = vectorizer.transform(X_test)"
      ],
      "metadata": {
        "id": "jn0CSOqzn32w"
      },
      "execution_count": null,
      "outputs": []
    },
    {
      "cell_type": "code",
      "source": [
        "# Treinando um classificador de SVM\n",
        "clf = SVC(kernel='linear')\n",
        "clf.fit(X_train_vec, y_train)"
      ],
      "metadata": {
        "id": "iXjmv6W0n6cA"
      },
      "execution_count": null,
      "outputs": []
    },
    {
      "cell_type": "code",
      "source": [
        "# Salvando o modelo treinado\n",
        "joblib.dump(clf, 'modelo_svm.pkl')\n",
        "joblib.dump(vectorizer, 'vectorizer.pkl')"
      ],
      "metadata": {
        "id": "2eF1snyRn8Hx"
      },
      "execution_count": null,
      "outputs": []
    },
    {
      "cell_type": "code",
      "source": [
        "# Avaliando o modelo\n",
        "predictions = clf.predict(X_test_vec)\n",
        "print(\"Acurácia do modelo:\", accuracy_score(y_test, predictions))\n",
        "print(classification_report(y_test, predictions))"
      ],
      "metadata": {
        "id": "pf4IbsxHn9tg"
      },
      "execution_count": null,
      "outputs": []
    }
  ]
}